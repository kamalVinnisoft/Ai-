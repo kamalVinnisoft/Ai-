{
  "cells": [
    {
      "cell_type": "markdown",
      "metadata": {
        "id": "view-in-github",
        "colab_type": "text"
      },
      "source": [
        "<a href=\"https://colab.research.google.com/github/kamalVinnisoft/Ai-/blob/main/Untitled3.ipynb\" target=\"_parent\"><img src=\"https://colab.research.google.com/assets/colab-badge.svg\" alt=\"Open In Colab\"/></a>"
      ]
    },
    {
      "cell_type": "code",
      "execution_count": null,
      "metadata": {
        "id": "4ghYVm-u0N1S"
      },
      "outputs": [],
      "source": []
    },
    {
      "cell_type": "markdown",
      "source": [
        "I have make some changes in this >>>>>>>>>>>>>>>>>>>>>>>>"
      ],
      "metadata": {
        "id": "lalO7bj2WS7r"
      }
    },
    {
      "cell_type": "code",
      "execution_count": null,
      "metadata": {
        "id": "jzHcd-jY--M1",
        "outputId": "974d686b-edc4-4a47-9f72-a605620ffaa9",
        "colab": {
          "base_uri": "https://localhost:8080/"
        }
      },
      "outputs": [
        {
          "output_type": "stream",
          "name": "stdout",
          "text": [
            "\u001b[0m\u001b[01;34msample_data\u001b[0m/\n"
          ]
        }
      ],
      "source": [
        "%ls"
      ]
    },
    {
      "cell_type": "code",
      "execution_count": null,
      "metadata": {
        "colab": {
          "base_uri": "https://localhost:8080/"
        },
        "id": "A48PNhEX72vM",
        "outputId": "91f84a05-c710-4614-e278-81085e3f89b3"
      },
      "outputs": [
        {
          "name": "stdout",
          "output_type": "stream",
          "text": [
            "Mounted at /content/drive\n"
          ]
        }
      ],
      "source": [
        "from google.colab import drive\n",
        "drive.mount('/content/drive')\n"
      ]
    },
    {
      "cell_type": "code",
      "execution_count": null,
      "metadata": {
        "colab": {
          "base_uri": "https://localhost:8080/"
        },
        "id": "7y92adCR_Xqj",
        "outputId": "0a2000ce-0cb6-4fb2-a367-aaf8af1f6221"
      },
      "outputs": [
        {
          "name": "stdout",
          "output_type": "stream",
          "text": [
            "Reading package lists... Done\n",
            "Building dependency tree... Done\n",
            "Reading state information... Done\n",
            "git is already the newest version (1:2.34.1-1ubuntu1.11).\n",
            "0 upgraded, 0 newly installed, 0 to remove and 49 not upgraded.\n"
          ]
        }
      ],
      "source": [
        "!apt-get install git\n"
      ]
    },
    {
      "cell_type": "code",
      "execution_count": null,
      "metadata": {
        "id": "qFQMAIGIJWVZ"
      },
      "outputs": [],
      "source": [
        "!git config --global user.name \"kamalVinnisoft\"\n",
        "!git config --global user.email \"kamalpreet@vinnisoft.org\"\n"
      ]
    },
    {
      "cell_type": "code",
      "execution_count": null,
      "metadata": {
        "colab": {
          "base_uri": "https://localhost:8080/"
        },
        "id": "kw-qKIjmJkqB",
        "outputId": "c29b4f35-05ea-41db-b366-f2d42f18af40"
      },
      "outputs": [
        {
          "output_type": "stream",
          "name": "stdout",
          "text": [
            "/content/sample_data\n"
          ]
        }
      ],
      "source": [
        "%cd sample_data/"
      ]
    },
    {
      "cell_type": "code",
      "execution_count": null,
      "metadata": {
        "colab": {
          "base_uri": "https://localhost:8080/"
        },
        "id": "Pju4OsrfKwuK",
        "outputId": "284109b5-1a1b-4d05-ffd8-14509d6661b2"
      },
      "outputs": [
        {
          "output_type": "stream",
          "name": "stdout",
          "text": [
            "\u001b[33mhint: Using 'master' as the name for the initial branch. This default branch name\u001b[m\n",
            "\u001b[33mhint: is subject to change. To configure the initial branch name to use in all\u001b[m\n",
            "\u001b[33mhint: of your new repositories, which will suppress this warning, call:\u001b[m\n",
            "\u001b[33mhint: \u001b[m\n",
            "\u001b[33mhint: \tgit config --global init.defaultBranch <name>\u001b[m\n",
            "\u001b[33mhint: \u001b[m\n",
            "\u001b[33mhint: Names commonly chosen instead of 'master' are 'main', 'trunk' and\u001b[m\n",
            "\u001b[33mhint: 'development'. The just-created branch can be renamed via this command:\u001b[m\n",
            "\u001b[33mhint: \u001b[m\n",
            "\u001b[33mhint: \tgit branch -m <name>\u001b[m\n",
            "Initialized empty Git repository in /content/sample_data/.git/\n"
          ]
        }
      ],
      "source": [
        "!git init\n"
      ]
    },
    {
      "cell_type": "code",
      "execution_count": null,
      "metadata": {
        "id": "Crx2iKD9KxYB"
      },
      "outputs": [],
      "source": [
        "!git add .\n"
      ]
    },
    {
      "cell_type": "code",
      "execution_count": null,
      "metadata": {
        "colab": {
          "base_uri": "https://localhost:8080/"
        },
        "id": "KOChhE8MLjhw",
        "outputId": "d8efb586-bf08-4bef-b873-c3e318c073c1"
      },
      "outputs": [
        {
          "output_type": "stream",
          "name": "stdout",
          "text": [
            "[Errno 2] No such file or directory: 'Ai-'\n",
            "/content\n"
          ]
        }
      ],
      "source": [
        "%cd Ai-\n"
      ]
    },
    {
      "cell_type": "code",
      "execution_count": null,
      "metadata": {
        "id": "YzRDuw4pLm9o"
      },
      "outputs": [],
      "source": [
        "!git add ."
      ]
    },
    {
      "cell_type": "code",
      "execution_count": null,
      "metadata": {
        "colab": {
          "base_uri": "https://localhost:8080/"
        },
        "id": "MOUm9hIjLsv4",
        "outputId": "c254cb2d-a4d8-42cb-fa1d-19a96b3fb396"
      },
      "outputs": [
        {
          "output_type": "stream",
          "name": "stdout",
          "text": [
            "[master (root-commit) 4e1758d] first commit\n",
            " 2 files changed, 19 insertions(+)\n",
            " create mode 100755 README.md\n",
            " create mode 100644 dataa.csv\n"
          ]
        }
      ],
      "source": [
        "!git commit -m \"first commit\""
      ]
    },
    {
      "cell_type": "code",
      "execution_count": null,
      "metadata": {
        "id": "ie0PBKBULy0I"
      },
      "outputs": [],
      "source": [
        "!git branch -M main"
      ]
    },
    {
      "cell_type": "code",
      "execution_count": null,
      "metadata": {
        "id": "_EDmqB49L8YY"
      },
      "outputs": [],
      "source": [
        "!git remote add origi https://github.com/kamalVinnisoft/Ai-.git"
      ]
    },
    {
      "cell_type": "code",
      "execution_count": null,
      "metadata": {
        "colab": {
          "base_uri": "https://localhost:8080/"
        },
        "id": "MnK0zn7CMCl4",
        "outputId": "1e05109a-7111-44b9-c8c1-b29edaf6aa93"
      },
      "outputs": [
        {
          "output_type": "stream",
          "name": "stdout",
          "text": [
            "origi\thttps://github.com/kamalVinnisoft/Ai-.git (fetch)\n",
            "origi\thttps://github.com/kamalVinnisoft/Ai-.git (push)\n"
          ]
        }
      ],
      "source": [
        "!git remote -v\n"
      ]
    },
    {
      "cell_type": "code",
      "execution_count": null,
      "metadata": {
        "colab": {
          "base_uri": "https://localhost:8080/"
        },
        "id": "ten0W-UeMFpI",
        "outputId": "dad7176b-0a7e-4cd9-e435-93ed790ae808"
      },
      "outputs": [
        {
          "output_type": "stream",
          "name": "stdout",
          "text": [
            "fatal: could not read Username for 'https://github.com': No such device or address\n"
          ]
        }
      ],
      "source": [
        "!git push -u origi main\n"
      ]
    },
    {
      "cell_type": "code",
      "source": [
        "!apt-get install gh\n"
      ],
      "metadata": {
        "colab": {
          "base_uri": "https://localhost:8080/"
        },
        "id": "XsIe5PneuIU7",
        "outputId": "ad2d548a-0f3f-4cb5-8003-d6c4d3e0c35e"
      },
      "execution_count": null,
      "outputs": [
        {
          "output_type": "stream",
          "name": "stdout",
          "text": [
            "Reading package lists... Done\n",
            "Building dependency tree... Done\n",
            "Reading state information... Done\n",
            "The following NEW packages will be installed:\n",
            "  gh\n",
            "0 upgraded, 1 newly installed, 0 to remove and 49 not upgraded.\n",
            "Need to get 6,242 kB of archives.\n",
            "After this operation, 33.7 MB of additional disk space will be used.\n",
            "Get:1 http://archive.ubuntu.com/ubuntu jammy/universe amd64 gh amd64 2.4.0+dfsg1-2 [6,242 kB]\n",
            "Fetched 6,242 kB in 2s (4,056 kB/s)\n",
            "Selecting previously unselected package gh.\n",
            "(Reading database ... 123634 files and directories currently installed.)\n",
            "Preparing to unpack .../gh_2.4.0+dfsg1-2_amd64.deb ...\n",
            "Unpacking gh (2.4.0+dfsg1-2) ...\n",
            "Setting up gh (2.4.0+dfsg1-2) ...\n",
            "Processing triggers for man-db (2.10.2-1) ...\n"
          ]
        }
      ]
    },
    {
      "cell_type": "code",
      "source": [
        "!gh auth login --hostname github.com --web\n"
      ],
      "metadata": {
        "colab": {
          "base_uri": "https://localhost:8080/"
        },
        "id": "xNAok12gwAwC",
        "outputId": "2bba49b6-4223-4123-9de2-6acc1f3bbe50"
      },
      "execution_count": null,
      "outputs": [
        {
          "output_type": "stream",
          "name": "stdout",
          "text": [
            "\n",
            "\u001b[0;33m!\u001b[0m First copy your one-time code: \u001b[0;1;39m2D28-EAD7\u001b[0m\n",
            "- \u001b[0;1;39mPress Enter\u001b[0m to open github.com in your browser... \n",
            "/usr/bin/xdg-open: 882: www-browser: not found\n",
            "/usr/bin/xdg-open: 882: links2: not found\n",
            "/usr/bin/xdg-open: 882: elinks: not found\n",
            "/usr/bin/xdg-open: 882: links: not found\n",
            "/usr/bin/xdg-open: 882: lynx: not found\n",
            "/usr/bin/xdg-open: 882: w3m: not found\n",
            "xdg-open: no method available for opening 'https://github.com/login/device'\n",
            "\u001b[0;31m!\u001b[0m Failed opening a web browser at https://github.com/login/device\n",
            "  exit status 3\n",
            "  Please try entering the URL in your browser manually\n"
          ]
        }
      ]
    },
    {
      "cell_type": "code",
      "execution_count": null,
      "metadata": {
        "colab": {
          "base_uri": "https://localhost:8080/"
        },
        "id": "vw_K5ukvMuVo",
        "outputId": "92f53033-4a2f-4400-bb5f-4808aea97b9b"
      },
      "outputs": [
        {
          "output_type": "stream",
          "name": "stdout",
          "text": [
            "On branch main\n",
            "nothing to commit, working tree clean\n"
          ]
        }
      ],
      "source": [
        "!git status\n"
      ]
    },
    {
      "cell_type": "code",
      "execution_count": null,
      "metadata": {
        "colab": {
          "base_uri": "https://localhost:8080/"
        },
        "id": "xQEQyuQUMw2h",
        "outputId": "0d6dab2c-b2fd-4061-f526-1a4a0e327f91"
      },
      "outputs": [
        {
          "output_type": "stream",
          "name": "stdout",
          "text": [
            "fatal: 'origin' does not appear to be a git repository\n",
            "fatal: Could not read from remote repository.\n",
            "\n",
            "Please make sure you have the correct access rights\n",
            "and the repository exists.\n"
          ]
        }
      ],
      "source": [
        "!git push origin main\n"
      ]
    },
    {
      "cell_type": "code",
      "execution_count": null,
      "metadata": {
        "colab": {
          "base_uri": "https://localhost:8080/"
        },
        "id": "vd9Ddz85M0wY",
        "outputId": "6a9a1d18-313e-4200-8a6a-ea4e576e3e87"
      },
      "outputs": [
        {
          "name": "stdout",
          "output_type": "stream",
          "text": [
            "Reading package lists... Done\n",
            "Building dependency tree... Done\n",
            "Reading state information... Done\n",
            "gh is already the newest version (2.4.0+dfsg1-2).\n",
            "0 upgraded, 0 newly installed, 0 to remove and 49 not upgraded.\n"
          ]
        }
      ],
      "source": [
        "!apt-get install gh\n"
      ]
    },
    {
      "cell_type": "code",
      "execution_count": null,
      "metadata": {
        "colab": {
          "base_uri": "https://localhost:8080/"
        },
        "id": "Lj2_oL2jPEBB",
        "outputId": "5e4f0e7b-c007-4339-a753-fbf1e73e4bf2"
      },
      "outputs": [
        {
          "output_type": "stream",
          "name": "stdout",
          "text": [
            "fatal: not a git repository (or any of the parent directories): .git\n"
          ]
        }
      ],
      "source": [
        "!git push origin main"
      ]
    },
    {
      "cell_type": "code",
      "execution_count": null,
      "metadata": {
        "id": "t-WNnIspQok7"
      },
      "outputs": [],
      "source": []
    }
  ],
  "metadata": {
    "colab": {
      "provenance": [],
      "authorship_tag": "ABX9TyO21n0v+Wkq3CyXnErQ60/a",
      "include_colab_link": true
    },
    "kernelspec": {
      "display_name": "Python 3",
      "name": "python3"
    },
    "language_info": {
      "name": "python"
    }
  },
  "nbformat": 4,
  "nbformat_minor": 0
}